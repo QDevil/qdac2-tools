{
 "cells": [
  {
   "cell_type": "markdown",
   "id": "5e62a6a0-a4e4-4928-a276-d761d509c2a4",
   "metadata": {},
   "source": [
    "# **QSwitch example usage**"
   ]
  },
  {
   "cell_type": "code",
   "execution_count": 2,
   "id": "4bea1adc-81e2-4388-a9e0-bf8ebc3e4f83",
   "metadata": {},
   "outputs": [],
   "source": [
    "from src.qswitch import QSwitch, channel_list_to_state, UdpConfig\n",
    "from src.common import connection"
   ]
  },
  {
   "cell_type": "markdown",
   "id": "9e37dced",
   "metadata": {},
   "source": [
    "# Connect and identify"
   ]
  },
  {
   "cell_type": "markdown",
   "id": "e2b87dde-0057-4b87-b957-ee44166592cd",
   "metadata": {},
   "source": [
    "**Connect via USB using VISA**:"
   ]
  },
  {
   "cell_type": "markdown",
   "id": "c55041ce",
   "metadata": {},
   "source": [
    "- If only one QSwitch is connected - automatically find the address:"
   ]
  },
  {
   "cell_type": "code",
   "execution_count": null,
   "id": "5787c333-0d69-47db-bfe3-37bead44a7c5",
   "metadata": {},
   "outputs": [],
   "source": [
    "device = connection.find_qswitch_on_usb()\n",
    "qswitch = QSwitch(device)\n",
    "print(qswitch.query(\"*idn?\"))"
   ]
  },
  {
   "cell_type": "markdown",
   "id": "b4945246",
   "metadata": {},
   "source": [
    "- or specify the port number"
   ]
  },
  {
   "cell_type": "code",
   "execution_count": null,
   "id": "86386e9e",
   "metadata": {},
   "outputs": [],
   "source": [
    "qswitch_portno= '5'  # \n",
    "device = connection.find_visa_device(address=f'ASRL{qswitch_portno}::INSTR',description=\"QSwitch\")\n",
    "qswitch = QSwitch(device)\n",
    "print(qswitch.query(\"*idn?\"))"
   ]
  },
  {
   "cell_type": "code",
   "execution_count": null,
   "id": "a5997ed8",
   "metadata": {},
   "outputs": [],
   "source": [
    "# If in doubt about the port number, list the available serial ports with connected QDACs or QSwitch's\n",
    "print(connection.find_serial_devices())\n",
    "\n",
    "# Try to match these up with the VISA port numbers\n",
    "print(connection.resource_manager().list_resources())"
   ]
  },
  {
   "cell_type": "markdown",
   "id": "89bf3106-0ffa-4a05-9632-5a7aba24c51e",
   "metadata": {},
   "source": [
    "**Connect via Ethernet (UDP):**  (firmware version > 1.3)"
   ]
  },
  {
   "cell_type": "code",
   "execution_count": null,
   "id": "a4724b86-62f4-4749-8398-06c32f42f53a",
   "metadata": {},
   "outputs": [],
   "source": [
    "qswitch_addr = '192.168.8.101'\n",
    "device = UdpConfig(ip = qswitch_addr)\n",
    "qswitch = QSwitch(device)\n",
    "print(qswitch.query(\"*idn?\"))"
   ]
  },
  {
   "cell_type": "markdown",
   "id": "a6069f26",
   "metadata": {},
   "source": [
    "# Manipulate relays"
   ]
  },
  {
   "cell_type": "markdown",
   "id": "1866cc7c-eb2d-463f-b16e-ce20125437ac",
   "metadata": {},
   "source": [
    "Close all grounding relays and open all other relays by resetting the QSwitch (*rst)"
   ]
  },
  {
   "cell_type": "code",
   "execution_count": 4,
   "id": "a1eb56b0-20cc-4dbd-a603-5c1d3069bcb7",
   "metadata": {},
   "outputs": [],
   "source": [
    "qswitch.command(\"*rst\")"
   ]
  },
  {
   "cell_type": "markdown",
   "id": "8063f73a",
   "metadata": {},
   "source": [
    "Show closed relays"
   ]
  },
  {
   "cell_type": "code",
   "execution_count": null,
   "id": "49a62229",
   "metadata": {},
   "outputs": [],
   "source": [
    "print(qswitch.query(\"close:stat?\"))"
   ]
  },
  {
   "cell_type": "markdown",
   "id": "f702a187",
   "metadata": {},
   "source": [
    "Use the \"channel_to_state\" helper to make a list of closed relays"
   ]
  },
  {
   "cell_type": "code",
   "execution_count": null,
   "id": "c592efa5",
   "metadata": {},
   "outputs": [],
   "source": [
    "state = channel_list_to_state(qswitch.query(\"clos:stat?\"))\n",
    "print(state)"
   ]
  },
  {
   "cell_type": "markdown",
   "id": "630d55d3",
   "metadata": {},
   "source": [
    "Connect and unground line 23:"
   ]
  },
  {
   "cell_type": "code",
   "execution_count": null,
   "id": "e2376ee8",
   "metadata": {},
   "outputs": [],
   "source": [
    "qswitch.command(\"close (@23!9)\")\n",
    "qswitch.command(\"open (@23!0)\")\n",
    "print(channel_list_to_state(qswitch.query(\"close:stat?\")))"
   ]
  },
  {
   "cell_type": "markdown",
   "id": "ff299d44",
   "metadata": {},
   "source": [
    "Tap off line 23 to BNC 2:"
   ]
  },
  {
   "cell_type": "code",
   "execution_count": null,
   "id": "c3998fd0",
   "metadata": {},
   "outputs": [],
   "source": [
    "qswitch.command(\"close (@23!2)\")\n",
    "print(qswitch.query(\"close:stat?\"))"
   ]
  },
  {
   "cell_type": "markdown",
   "id": "08690b84",
   "metadata": {},
   "source": [
    "Multiple relays at once:"
   ]
  },
  {
   "cell_type": "code",
   "execution_count": null,
   "id": "c2909bd6",
   "metadata": {},
   "outputs": [],
   "source": [
    "qswitch.command(\"open (@1!0:8!0)\")\n",
    "print(qswitch.query(\"close:stat?\"))\n",
    "\n",
    "# Double check that specific relauys are open\n"
   ]
  },
  {
   "cell_type": "markdown",
   "id": "dbf07382",
   "metadata": {},
   "source": [
    "Check that specific relays are open or closed"
   ]
  },
  {
   "cell_type": "code",
   "execution_count": null,
   "id": "89c367c3",
   "metadata": {},
   "outputs": [],
   "source": [
    "print(\"Open:\\t\",qswitch.query(\"open? (@1!0:8!0)\"))\n",
    "print(\"Closed:\\t\",qswitch.query(\"close? (@1!0:8!0)\"))"
   ]
  },
  {
   "cell_type": "markdown",
   "id": "9f861f34",
   "metadata": {},
   "source": [
    "## Check for errors:"
   ]
  },
  {
   "cell_type": "code",
   "execution_count": null,
   "id": "1340c960",
   "metadata": {},
   "outputs": [],
   "source": [
    "print(qswitch.query(\"err:all?\"))"
   ]
  },
  {
   "cell_type": "markdown",
   "id": "733345b3-f9e4-4edc-a352-7615360a7299",
   "metadata": {},
   "source": [
    "Beep and blink on SCPI command errors (default off):"
   ]
  },
  {
   "cell_type": "code",
   "execution_count": 35,
   "id": "d0e47647-f672-40e8-a9d3-86ac1a5b90c3",
   "metadata": {},
   "outputs": [],
   "source": [
    "qswitch.command('syst:beep:stat on')"
   ]
  },
  {
   "cell_type": "code",
   "execution_count": null,
   "id": "5e11377e",
   "metadata": {},
   "outputs": [],
   "source": [
    "qswitch.command('syst:beep:stat off')"
   ]
  },
  {
   "cell_type": "markdown",
   "id": "f2f5d12a",
   "metadata": {},
   "source": [
    "## Autosave"
   ]
  },
  {
   "cell_type": "markdown",
   "id": "b4fcd850",
   "metadata": {},
   "source": [
    "When turning on autosave, the relay states will be restored after restart (SYSTem:RESTart)."
   ]
  },
  {
   "cell_type": "code",
   "execution_count": 50,
   "id": "dfdba65e",
   "metadata": {},
   "outputs": [],
   "source": [
    "qswitch.command('syst:autosave on')\n",
    "qswitch.command('syst:aut off')"
   ]
  },
  {
   "cell_type": "markdown",
   "id": "2e6508fd",
   "metadata": {},
   "source": [
    "## End session (close connection)"
   ]
  },
  {
   "cell_type": "markdown",
   "id": "bff23cac",
   "metadata": {},
   "source": [
    "The QSwitch only supports a single USB connection. So in order not to block it you can tell Python to release the connection. This is also good practice for ethernet connections."
   ]
  },
  {
   "cell_type": "code",
   "execution_count": 10,
   "id": "44bac656",
   "metadata": {},
   "outputs": [],
   "source": [
    "qswitch.close()"
   ]
  }
 ],
 "metadata": {
  "kernelspec": {
   "display_name": "venv",
   "language": "python",
   "name": "python3"
  },
  "language_info": {
   "codemirror_mode": {
    "name": "ipython",
    "version": 3
   },
   "file_extension": ".py",
   "mimetype": "text/x-python",
   "name": "python",
   "nbconvert_exporter": "python",
   "pygments_lexer": "ipython3",
   "version": "3.12.2"
  },
  "nbsphinx": {
   "execute": "never"
  }
 },
 "nbformat": 4,
 "nbformat_minor": 5
}
